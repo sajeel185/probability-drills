{
 "cells": [
  {
   "cell_type": "markdown",
   "metadata": {},
   "source": [
    "1) .5 * .5 * .5 * .5 = .0625\n",
    "\n",
    "2) 24/45 = .53 = 53%\n",
    "\n",
    "3) .1 * .00005 = .000005 = .0005%\n",
    "\n",
    "4) People who spend more time on the website, probably click on more links, and so they have an increase chance of getting a survey.  This demonstrates selection bias.  Its biased towards those who spend more time on the website."
   ]
  }
 ],
 "metadata": {
  "kernelspec": {
   "display_name": "Python 3",
   "language": "python",
   "name": "python3"
  },
  "language_info": {
   "codemirror_mode": {
    "name": "ipython",
    "version": 3
   },
   "file_extension": ".py",
   "mimetype": "text/x-python",
   "name": "python",
   "nbconvert_exporter": "python",
   "pygments_lexer": "ipython3",
   "version": "3.7.0"
  }
 },
 "nbformat": 4,
 "nbformat_minor": 2
}
